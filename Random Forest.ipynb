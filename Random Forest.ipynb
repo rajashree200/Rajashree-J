{
 "cells": [
  {
   "cell_type": "code",
   "execution_count": 1,
   "metadata": {},
   "outputs": [],
   "source": [
    "from sklearn import datasets"
   ]
  },
  {
   "cell_type": "code",
   "execution_count": 2,
   "metadata": {},
   "outputs": [
    {
     "data": {
      "text/html": [
       "<div>\n",
       "<style scoped>\n",
       "    .dataframe tbody tr th:only-of-type {\n",
       "        vertical-align: middle;\n",
       "    }\n",
       "\n",
       "    .dataframe tbody tr th {\n",
       "        vertical-align: top;\n",
       "    }\n",
       "\n",
       "    .dataframe thead th {\n",
       "        text-align: right;\n",
       "    }\n",
       "</style>\n",
       "<table border=\"1\" class=\"dataframe\">\n",
       "  <thead>\n",
       "    <tr style=\"text-align: right;\">\n",
       "      <th></th>\n",
       "      <th>CampaignID</th>\n",
       "      <th>GoalAmount</th>\n",
       "      <th>RaisedAmount</th>\n",
       "      <th>DurationDays</th>\n",
       "      <th>NumBackers</th>\n",
       "      <th>Category</th>\n",
       "      <th>LaunchMonth</th>\n",
       "      <th>Country</th>\n",
       "      <th>Currency</th>\n",
       "      <th>OwnerExperience</th>\n",
       "      <th>VideoIncluded</th>\n",
       "      <th>SocialMediaPresence</th>\n",
       "      <th>NumUpdates</th>\n",
       "      <th>IsSuccessful</th>\n",
       "    </tr>\n",
       "  </thead>\n",
       "  <tbody>\n",
       "    <tr>\n",
       "      <th>0</th>\n",
       "      <td>CID_00000</td>\n",
       "      <td>76159</td>\n",
       "      <td>73518.028955</td>\n",
       "      <td>15</td>\n",
       "      <td>1903</td>\n",
       "      <td>Film</td>\n",
       "      <td>September</td>\n",
       "      <td>Australia</td>\n",
       "      <td>GBP</td>\n",
       "      <td>11</td>\n",
       "      <td>Yes</td>\n",
       "      <td>41758</td>\n",
       "      <td>3</td>\n",
       "      <td>0</td>\n",
       "    </tr>\n",
       "    <tr>\n",
       "      <th>1</th>\n",
       "      <td>CID_00001</td>\n",
       "      <td>69394</td>\n",
       "      <td>60068.683288</td>\n",
       "      <td>49</td>\n",
       "      <td>469</td>\n",
       "      <td>Art</td>\n",
       "      <td>October</td>\n",
       "      <td>Australia</td>\n",
       "      <td>GBP</td>\n",
       "      <td>7</td>\n",
       "      <td>Yes</td>\n",
       "      <td>79112</td>\n",
       "      <td>48</td>\n",
       "      <td>0</td>\n",
       "    </tr>\n",
       "    <tr>\n",
       "      <th>2</th>\n",
       "      <td>CID_00002</td>\n",
       "      <td>18652</td>\n",
       "      <td>22958.153470</td>\n",
       "      <td>58</td>\n",
       "      <td>148</td>\n",
       "      <td>Film</td>\n",
       "      <td>February</td>\n",
       "      <td>USA</td>\n",
       "      <td>EUR</td>\n",
       "      <td>17</td>\n",
       "      <td>No</td>\n",
       "      <td>3942</td>\n",
       "      <td>9</td>\n",
       "      <td>1</td>\n",
       "    </tr>\n",
       "    <tr>\n",
       "      <th>3</th>\n",
       "      <td>CID_00003</td>\n",
       "      <td>19487</td>\n",
       "      <td>24229.048390</td>\n",
       "      <td>39</td>\n",
       "      <td>780</td>\n",
       "      <td>Film</td>\n",
       "      <td>October</td>\n",
       "      <td>Germany</td>\n",
       "      <td>AUD</td>\n",
       "      <td>10</td>\n",
       "      <td>No</td>\n",
       "      <td>22047</td>\n",
       "      <td>35</td>\n",
       "      <td>1</td>\n",
       "    </tr>\n",
       "    <tr>\n",
       "      <th>4</th>\n",
       "      <td>CID_00004</td>\n",
       "      <td>26734</td>\n",
       "      <td>17984.630311</td>\n",
       "      <td>68</td>\n",
       "      <td>1622</td>\n",
       "      <td>Games</td>\n",
       "      <td>September</td>\n",
       "      <td>Australia</td>\n",
       "      <td>AUD</td>\n",
       "      <td>12</td>\n",
       "      <td>Yes</td>\n",
       "      <td>72568</td>\n",
       "      <td>17</td>\n",
       "      <td>0</td>\n",
       "    </tr>\n",
       "  </tbody>\n",
       "</table>\n",
       "</div>"
      ],
      "text/plain": [
       "  CampaignID  GoalAmount  RaisedAmount  DurationDays  NumBackers Category  \\\n",
       "0  CID_00000       76159  73518.028955            15        1903     Film   \n",
       "1  CID_00001       69394  60068.683288            49         469      Art   \n",
       "2  CID_00002       18652  22958.153470            58         148     Film   \n",
       "3  CID_00003       19487  24229.048390            39         780     Film   \n",
       "4  CID_00004       26734  17984.630311            68        1622    Games   \n",
       "\n",
       "  LaunchMonth    Country Currency  OwnerExperience VideoIncluded  \\\n",
       "0   September  Australia      GBP               11           Yes   \n",
       "1     October  Australia      GBP                7           Yes   \n",
       "2    February        USA      EUR               17            No   \n",
       "3     October    Germany      AUD               10            No   \n",
       "4   September  Australia      AUD               12           Yes   \n",
       "\n",
       "   SocialMediaPresence  NumUpdates  IsSuccessful  \n",
       "0                41758           3             0  \n",
       "1                79112          48             0  \n",
       "2                 3942           9             1  \n",
       "3                22047          35             1  \n",
       "4                72568          17             0  "
      ]
     },
     "execution_count": 2,
     "metadata": {},
     "output_type": "execute_result"
    }
   ],
   "source": [
    "import pandas as pd\n",
    "data= pd.read_csv('datasets/campaign_data.csv')\n",
    "data.head()"
   ]
  },
  {
   "cell_type": "code",
   "execution_count": 3,
   "metadata": {},
   "outputs": [],
   "source": [
    "from sklearn.model_selection import train_test_split\n",
    "X=data[['GoalAmount', 'RaisedAmount', 'DurationDays', 'NumBackers']]\n",
    "y=data['IsSuccessful']\n",
    "X_train, X_test, y_train, y_test = train_test_split(X, y, test_size=0.3)"
   ]
  },
  {
   "cell_type": "code",
   "execution_count": 4,
   "metadata": {},
   "outputs": [],
   "source": [
    "from sklearn.ensemble import RandomForestClassifier\n",
    "clf=RandomForestClassifier(n_estimators=100)\n",
    "clf.fit(X_train,y_train)\n",
    "y_pred=clf.predict(X_test)"
   ]
  },
  {
   "cell_type": "code",
   "execution_count": 5,
   "metadata": {},
   "outputs": [
    {
     "name": "stdout",
     "output_type": "stream",
     "text": [
      "Accuracy: 0.9952\n"
     ]
    }
   ],
   "source": [
    "from sklearn import metrics\n",
    "print(\"Accuracy:\",metrics.accuracy_score(y_test, y_pred))"
   ]
  }
 ],
 "metadata": {
  "kernelspec": {
   "display_name": "Python 3 (ipykernel)",
   "language": "python",
   "name": "python3"
  },
  "language_info": {
   "codemirror_mode": {
    "name": "ipython",
    "version": 3
   },
   "file_extension": ".py",
   "mimetype": "text/x-python",
   "name": "python",
   "nbconvert_exporter": "python",
   "pygments_lexer": "ipython3",
   "version": "3.12.1"
  }
 },
 "nbformat": 4,
 "nbformat_minor": 4
}
